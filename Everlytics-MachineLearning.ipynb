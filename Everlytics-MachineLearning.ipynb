{
 "cells": [
  {
   "cell_type": "markdown",
   "id": "40e2bc1a",
   "metadata": {},
   "source": [
    "#### Importing libraries"
   ]
  },
  {
   "cell_type": "code",
   "execution_count": 1,
   "id": "9a369d81",
   "metadata": {},
   "outputs": [],
   "source": [
    "import pandas as pd\n",
    "import matplotlib.pyplot as plt\n",
    "from sklearn.metrics import f1_score,accuracy_score,recall_score,ConfusionMatrixDisplay,classification_report\n",
    "from sklearn.model_selection import GridSearchCV,cross_validate,cross_val_score,KFold"
   ]
  },
  {
   "cell_type": "markdown",
   "id": "caa50752",
   "metadata": {},
   "source": [
    "#### Reading Data"
   ]
  },
  {
   "cell_type": "code",
   "execution_count": 2,
   "id": "53169e45",
   "metadata": {},
   "outputs": [
    {
     "data": {
      "text/html": [
       "<div>\n",
       "<style scoped>\n",
       "    .dataframe tbody tr th:only-of-type {\n",
       "        vertical-align: middle;\n",
       "    }\n",
       "\n",
       "    .dataframe tbody tr th {\n",
       "        vertical-align: top;\n",
       "    }\n",
       "\n",
       "    .dataframe thead th {\n",
       "        text-align: right;\n",
       "    }\n",
       "</style>\n",
       "<table border=\"1\" class=\"dataframe\">\n",
       "  <thead>\n",
       "    <tr style=\"text-align: right;\">\n",
       "      <th></th>\n",
       "      <th>having_IP_Address</th>\n",
       "      <th>URL_Length</th>\n",
       "      <th>Shortining_Service</th>\n",
       "      <th>having_At_Symbol</th>\n",
       "      <th>double_slash_redirecting</th>\n",
       "      <th>Prefix_Suffix</th>\n",
       "      <th>having_Sub_Domain</th>\n",
       "      <th>SSLfinal_State</th>\n",
       "      <th>Domain_registeration_length</th>\n",
       "      <th>Favicon</th>\n",
       "      <th>...</th>\n",
       "      <th>popUpWidnow</th>\n",
       "      <th>Iframe</th>\n",
       "      <th>age_of_domain</th>\n",
       "      <th>DNSRecord</th>\n",
       "      <th>web_traffic</th>\n",
       "      <th>Page_Rank</th>\n",
       "      <th>Google_Index</th>\n",
       "      <th>Links_pointing_to_page</th>\n",
       "      <th>Statistical_report</th>\n",
       "      <th>Result</th>\n",
       "    </tr>\n",
       "  </thead>\n",
       "  <tbody>\n",
       "    <tr>\n",
       "      <th>0</th>\n",
       "      <td>1</td>\n",
       "      <td>1</td>\n",
       "      <td>0</td>\n",
       "      <td>0</td>\n",
       "      <td>1</td>\n",
       "      <td>-1</td>\n",
       "      <td>-1</td>\n",
       "      <td>-1</td>\n",
       "      <td>0</td>\n",
       "      <td>0</td>\n",
       "      <td>...</td>\n",
       "      <td>0</td>\n",
       "      <td>0</td>\n",
       "      <td>-1</td>\n",
       "      <td>1</td>\n",
       "      <td>-1</td>\n",
       "      <td>-1</td>\n",
       "      <td>0</td>\n",
       "      <td>1</td>\n",
       "      <td>1</td>\n",
       "      <td>1</td>\n",
       "    </tr>\n",
       "    <tr>\n",
       "      <th>1</th>\n",
       "      <td>0</td>\n",
       "      <td>1</td>\n",
       "      <td>0</td>\n",
       "      <td>0</td>\n",
       "      <td>0</td>\n",
       "      <td>-1</td>\n",
       "      <td>0</td>\n",
       "      <td>1</td>\n",
       "      <td>0</td>\n",
       "      <td>0</td>\n",
       "      <td>...</td>\n",
       "      <td>0</td>\n",
       "      <td>0</td>\n",
       "      <td>-1</td>\n",
       "      <td>1</td>\n",
       "      <td>0</td>\n",
       "      <td>-1</td>\n",
       "      <td>0</td>\n",
       "      <td>1</td>\n",
       "      <td>0</td>\n",
       "      <td>1</td>\n",
       "    </tr>\n",
       "    <tr>\n",
       "      <th>2</th>\n",
       "      <td>0</td>\n",
       "      <td>0</td>\n",
       "      <td>0</td>\n",
       "      <td>0</td>\n",
       "      <td>0</td>\n",
       "      <td>-1</td>\n",
       "      <td>-1</td>\n",
       "      <td>-1</td>\n",
       "      <td>0</td>\n",
       "      <td>0</td>\n",
       "      <td>...</td>\n",
       "      <td>0</td>\n",
       "      <td>0</td>\n",
       "      <td>0</td>\n",
       "      <td>1</td>\n",
       "      <td>1</td>\n",
       "      <td>-1</td>\n",
       "      <td>0</td>\n",
       "      <td>0</td>\n",
       "      <td>1</td>\n",
       "      <td>1</td>\n",
       "    </tr>\n",
       "    <tr>\n",
       "      <th>3</th>\n",
       "      <td>0</td>\n",
       "      <td>0</td>\n",
       "      <td>0</td>\n",
       "      <td>0</td>\n",
       "      <td>0</td>\n",
       "      <td>-1</td>\n",
       "      <td>-1</td>\n",
       "      <td>-1</td>\n",
       "      <td>1</td>\n",
       "      <td>0</td>\n",
       "      <td>...</td>\n",
       "      <td>0</td>\n",
       "      <td>0</td>\n",
       "      <td>-1</td>\n",
       "      <td>1</td>\n",
       "      <td>1</td>\n",
       "      <td>-1</td>\n",
       "      <td>0</td>\n",
       "      <td>-1</td>\n",
       "      <td>0</td>\n",
       "      <td>1</td>\n",
       "    </tr>\n",
       "    <tr>\n",
       "      <th>4</th>\n",
       "      <td>0</td>\n",
       "      <td>0</td>\n",
       "      <td>1</td>\n",
       "      <td>0</td>\n",
       "      <td>0</td>\n",
       "      <td>-1</td>\n",
       "      <td>1</td>\n",
       "      <td>1</td>\n",
       "      <td>0</td>\n",
       "      <td>0</td>\n",
       "      <td>...</td>\n",
       "      <td>1</td>\n",
       "      <td>0</td>\n",
       "      <td>-1</td>\n",
       "      <td>1</td>\n",
       "      <td>0</td>\n",
       "      <td>-1</td>\n",
       "      <td>0</td>\n",
       "      <td>1</td>\n",
       "      <td>0</td>\n",
       "      <td>0</td>\n",
       "    </tr>\n",
       "  </tbody>\n",
       "</table>\n",
       "<p>5 rows × 31 columns</p>\n",
       "</div>"
      ],
      "text/plain": [
       "   having_IP_Address  URL_Length  Shortining_Service  having_At_Symbol  \\\n",
       "0                  1           1                   0                 0   \n",
       "1                  0           1                   0                 0   \n",
       "2                  0           0                   0                 0   \n",
       "3                  0           0                   0                 0   \n",
       "4                  0           0                   1                 0   \n",
       "\n",
       "   double_slash_redirecting  Prefix_Suffix  having_Sub_Domain  SSLfinal_State  \\\n",
       "0                         1             -1                 -1              -1   \n",
       "1                         0             -1                  0               1   \n",
       "2                         0             -1                 -1              -1   \n",
       "3                         0             -1                 -1              -1   \n",
       "4                         0             -1                  1               1   \n",
       "\n",
       "   Domain_registeration_length  Favicon  ...  popUpWidnow  Iframe  \\\n",
       "0                            0        0  ...            0       0   \n",
       "1                            0        0  ...            0       0   \n",
       "2                            0        0  ...            0       0   \n",
       "3                            1        0  ...            0       0   \n",
       "4                            0        0  ...            1       0   \n",
       "\n",
       "   age_of_domain  DNSRecord  web_traffic  Page_Rank  Google_Index  \\\n",
       "0             -1          1           -1         -1             0   \n",
       "1             -1          1            0         -1             0   \n",
       "2              0          1            1         -1             0   \n",
       "3             -1          1            1         -1             0   \n",
       "4             -1          1            0         -1             0   \n",
       "\n",
       "   Links_pointing_to_page  Statistical_report  Result  \n",
       "0                       1                   1       1  \n",
       "1                       1                   0       1  \n",
       "2                       0                   1       1  \n",
       "3                      -1                   0       1  \n",
       "4                       1                   0       0  \n",
       "\n",
       "[5 rows x 31 columns]"
      ]
     },
     "execution_count": 2,
     "metadata": {},
     "output_type": "execute_result"
    }
   ],
   "source": [
    "data = pd.read_csv(\"Phishing Data - Phishing Data.csv\")\n",
    "data.head()"
   ]
  },
  {
   "cell_type": "markdown",
   "id": "2ad5c899",
   "metadata": {},
   "source": [
    "#### Checking null values"
   ]
  },
  {
   "cell_type": "code",
   "execution_count": 3,
   "id": "38844cb1",
   "metadata": {},
   "outputs": [
    {
     "data": {
      "text/plain": [
       "having_IP_Address              0\n",
       "URL_Length                     0\n",
       "Shortining_Service             0\n",
       "having_At_Symbol               0\n",
       "double_slash_redirecting       0\n",
       "Prefix_Suffix                  0\n",
       "having_Sub_Domain              0\n",
       "SSLfinal_State                 0\n",
       "Domain_registeration_length    0\n",
       "Favicon                        0\n",
       "port                           0\n",
       "HTTPS_token                    0\n",
       "Request_URL                    0\n",
       "URL_of_Anchor                  0\n",
       "Links_in_tags                  0\n",
       "SFH                            0\n",
       "Submitting_to_email            0\n",
       "Abnormal_URL                   0\n",
       "Redirect                       0\n",
       "on_mouseover                   0\n",
       "RightClick                     0\n",
       "popUpWidnow                    0\n",
       "Iframe                         0\n",
       "age_of_domain                  0\n",
       "DNSRecord                      0\n",
       "web_traffic                    0\n",
       "Page_Rank                      0\n",
       "Google_Index                   0\n",
       "Links_pointing_to_page         0\n",
       "Statistical_report             0\n",
       "Result                         0\n",
       "dtype: int64"
      ]
     },
     "execution_count": 3,
     "metadata": {},
     "output_type": "execute_result"
    }
   ],
   "source": [
    "data.isna().sum()"
   ]
  },
  {
   "cell_type": "markdown",
   "id": "86383018",
   "metadata": {},
   "source": [
    "#### Number of unique values"
   ]
  },
  {
   "cell_type": "code",
   "execution_count": 4,
   "id": "52f6bbea",
   "metadata": {},
   "outputs": [
    {
     "data": {
      "text/plain": [
       "having_IP_Address              2\n",
       "URL_Length                     3\n",
       "Shortining_Service             2\n",
       "having_At_Symbol               2\n",
       "double_slash_redirecting       2\n",
       "Prefix_Suffix                  3\n",
       "having_Sub_Domain              3\n",
       "SSLfinal_State                 3\n",
       "Domain_registeration_length    3\n",
       "Favicon                        2\n",
       "port                           2\n",
       "HTTPS_token                    2\n",
       "Request_URL                    2\n",
       "URL_of_Anchor                  3\n",
       "Links_in_tags                  3\n",
       "SFH                            2\n",
       "Submitting_to_email            2\n",
       "Abnormal_URL                   2\n",
       "Redirect                       2\n",
       "on_mouseover                   2\n",
       "RightClick                     2\n",
       "popUpWidnow                    2\n",
       "Iframe                         2\n",
       "age_of_domain                  3\n",
       "DNSRecord                      2\n",
       "web_traffic                    3\n",
       "Page_Rank                      3\n",
       "Google_Index                   2\n",
       "Links_pointing_to_page         3\n",
       "Statistical_report             2\n",
       "Result                         2\n",
       "dtype: int64"
      ]
     },
     "execution_count": 4,
     "metadata": {},
     "output_type": "execute_result"
    }
   ],
   "source": [
    "data.nunique()"
   ]
  },
  {
   "cell_type": "markdown",
   "id": "f1307fb8",
   "metadata": {},
   "source": [
    "#### Splitting features and labels"
   ]
  },
  {
   "cell_type": "code",
   "execution_count": 5,
   "id": "871f1f02",
   "metadata": {},
   "outputs": [],
   "source": [
    "features = data.iloc[:,:-1]\n",
    "labels = data.iloc[:,-1]"
   ]
  },
  {
   "cell_type": "markdown",
   "id": "69e9f860",
   "metadata": {},
   "source": [
    "#### Plotting feature importance"
   ]
  },
  {
   "cell_type": "code",
   "execution_count": 6,
   "id": "56186338",
   "metadata": {},
   "outputs": [
    {
     "data": {
      "image/png": "[encoded data removed]",
      "text/plain": [
       "<Figure size 720x360 with 1 Axes>"
      ]
     },
     "metadata": {
      "needs_background": "light"
     },
     "output_type": "display_data"
    }
   ],
   "source": [
    "from sklearn.feature_selection import SelectPercentile,chi2\n",
    "selectPercentile = SelectPercentile(percentile=100).fit(features,labels)\n",
    "xrange = selectPercentile.feature_names_in_\n",
    "yrange = selectPercentile.scores_\n",
    "\n",
    "plt.figure(figsize = (10,5))\n",
    "plt.bar(xrange,yrange)\n",
    "plt.ylabel(\"Scores\")\n",
    "plt.xlabel(\"Features\")\n",
    "plt.xticks(rotation = 90)\n",
    "plt.show()"
   ]
  },
  {
   "cell_type": "markdown",
   "id": "9306e6f3",
   "metadata": {},
   "source": [
    "#### Selecting 50% of the features"
   ]
  },
  {
   "cell_type": "code",
   "execution_count": 7,
   "id": "8530e6e2",
   "metadata": {},
   "outputs": [],
   "source": [
    "selectPercentile = SelectPercentile(percentile=50).fit(features,labels)\n",
    "kbestfeatures = selectPercentile.transform(features)"
   ]
  },
  {
   "cell_type": "markdown",
   "id": "d2b70c5c",
   "metadata": {},
   "source": [
    "#### Applying Feature and Label Encoding"
   ]
  },
  {
   "cell_type": "code",
   "execution_count": 8,
   "id": "46a30de0",
   "metadata": {},
   "outputs": [],
   "source": [
    "from sklearn.preprocessing import OneHotEncoder,LabelEncoder\n",
    "encodedfeatures = OneHotEncoder().fit_transform(kbestfeatures)\n",
    "encodedtarget = LabelEncoder().fit_transform(labels)"
   ]
  },
  {
   "cell_type": "markdown",
   "id": "971d9739",
   "metadata": {},
   "source": [
    "#### Splitting Data into Training and Testing"
   ]
  },
  {
   "cell_type": "code",
   "execution_count": 9,
   "id": "8ba9448c",
   "metadata": {},
   "outputs": [],
   "source": [
    "from sklearn.model_selection import train_test_split\n",
    "X_train,X_test,y_train,y_test = train_test_split(encodedfeatures,encodedtarget,test_size=0.3,random_state=0)"
   ]
  },
  {
   "cell_type": "code",
   "execution_count": 10,
   "id": "e5d3e686",
   "metadata": {},
   "outputs": [],
   "source": [
    "cv  = KFold(n_splits=10)"
   ]
  },
  {
   "cell_type": "code",
   "execution_count": 11,
   "id": "0ef630e0",
   "metadata": {},
   "outputs": [],
   "source": [
    "from sklearn.metrics import make_scorer\n",
    "f1 = make_scorer(f1_score,greater_is_better=True)"
   ]
  },
  {
   "cell_type": "markdown",
   "id": "9792d82a",
   "metadata": {},
   "source": [
    "#### Logistic Regression"
   ]
  },
  {
   "cell_type": "code",
   "execution_count": 12,
   "id": "e3ba4cc4",
   "metadata": {},
   "outputs": [
    {
     "data": {
      "text/plain": [
       "{'fit_time': array([0.0119679 , 0.00897646, 0.00997257, 0.00897527, 0.01001501,\n",
       "        0.00997233, 0.00892329, 0.00793505, 0.00698471, 0.0079217 ]),\n",
       " 'score_time': array([0.00199509, 0.0009985 , 0.00099802, 0.        , 0.0009985 ,\n",
       "        0.00095558, 0.00104213, 0.00100255, 0.00099373, 0.00099707]),\n",
       " 'test_score': array([0.94117647, 0.944     , 0.95424837, 0.94409938, 0.96551724,\n",
       "        0.92517007, 0.94736842, 0.90789474, 0.95483871, 0.94193548]),\n",
       " 'train_score': array([0.935609  , 0.95503212, 0.94819021, 0.95408895, 0.9557008 ,\n",
       "        0.95670996, 0.94018297, 0.96051687, 0.95265841, 0.95645756])}"
      ]
     },
     "execution_count": 12,
     "metadata": {},
     "output_type": "execute_result"
    }
   ],
   "source": [
    "#getting baseline figures on different models before hyper parameter tuning\n",
    "from sklearn.linear_model import SGDClassifier\n",
    "\n",
    "LogReg = SGDClassifier(loss='log',random_state=0)\n",
    "cross_validate(LogReg,X_train,y_train,cv = cv,return_train_score=True,scoring=f1)"
   ]
  },
  {
   "cell_type": "markdown",
   "id": "3c752a96",
   "metadata": {},
   "source": [
    "#### Linear Support Vector Machine"
   ]
  },
  {
   "cell_type": "code",
   "execution_count": 13,
   "id": "4e417bb4",
   "metadata": {},
   "outputs": [
    {
     "data": {
      "text/plain": [
       "{'fit_time': array([0.00897765, 0.00598311, 0.00598216, 0.00398874, 0.00598335,\n",
       "        0.00398874, 0.0039885 , 0.00398874, 0.00398874, 0.00498652]),\n",
       " 'score_time': array([0.00099826, 0.00099945, 0.00099802, 0.00101829, 0.        ,\n",
       "        0.00099754, 0.00099754, 0.00099778, 0.00099778, 0.        ]),\n",
       " 'test_score': array([0.93491124, 0.93023256, 0.94736842, 0.93167702, 0.88888889,\n",
       "        0.92105263, 0.95857988, 0.90789474, 0.93670886, 0.94267516]),\n",
       " 'train_score': array([0.92331768, 0.94965035, 0.94416961, 0.95176386, 0.90622951,\n",
       "        0.94751575, 0.93886156, 0.95460993, 0.94881038, 0.95658572])}"
      ]
     },
     "execution_count": 13,
     "metadata": {},
     "output_type": "execute_result"
    }
   ],
   "source": [
    "svm = SGDClassifier(loss='hinge',random_state=0)\n",
    "cross_validate(svm,X_train,y_train,cv = cv ,return_train_score=True,scoring = f1)"
   ]
  },
  {
   "cell_type": "markdown",
   "id": "0cc6be45",
   "metadata": {},
   "source": [
    "#### RBF Kernel SMV"
   ]
  },
  {
   "cell_type": "code",
   "execution_count": 14,
   "id": "ff259cf9",
   "metadata": {},
   "outputs": [
    {
     "data": {
      "text/plain": [
       "{'fit_time': array([0.06084394, 0.05585027, 0.0588448 , 0.05290532, 0.05380678,\n",
       "        0.0538609 , 0.05285168, 0.05285907, 0.05480385, 0.05485296]),\n",
       " 'score_time': array([0.00697994, 0.00693178, 0.00697923, 0.00798059, 0.00797725,\n",
       "        0.00698161, 0.00697875, 0.00698233, 0.01001835, 0.00698209]),\n",
       " 'test_score': array([0.97175141, 0.96      , 0.97297297, 0.96855346, 0.97902098,\n",
       "        0.94520548, 0.95705521, 0.94039735, 0.96103896, 0.95597484]),\n",
       " 'train_score': array([0.97032641, 0.97281831, 0.97293343, 0.97368421, 0.97175959,\n",
       "        0.97454545, 0.97341211, 0.97532656, 0.9730124 , 0.97589481])}"
      ]
     },
     "execution_count": 14,
     "metadata": {},
     "output_type": "execute_result"
    }
   ],
   "source": [
    "from sklearn.svm import SVC\n",
    "\n",
    "svc = SVC(kernel='rbf',random_state=0)\n",
    "cross_validate(svc,X_train,y_train,cv = cv,return_train_score=True,scoring=f1)"
   ]
  },
  {
   "cell_type": "markdown",
   "id": "4b6fe225",
   "metadata": {},
   "source": [
    "#### Bernoulli Naive Bayes"
   ]
  },
  {
   "cell_type": "code",
   "execution_count": 15,
   "id": "151e0c42",
   "metadata": {},
   "outputs": [
    {
     "data": {
      "text/plain": [
       "{'fit_time': array([0.00203466, 0.00203466, 0.00303173, 0.00100017, 0.00195265,\n",
       "        0.00199461, 0.00199485, 0.00099707, 0.00204062, 0.00100136]),\n",
       " 'score_time': array([0.00099397, 0.00195646, 0.00100064, 0.00099659, 0.00099707,\n",
       "        0.0009973 , 0.00099683, 0.00099754, 0.00099564, 0.00099301]),\n",
       " 'test_score': array([0.95454545, 0.928     , 0.95945946, 0.95061728, 0.94520548,\n",
       "        0.92307692, 0.925     , 0.9261745 , 0.96688742, 0.93670886]),\n",
       " 'train_score': array([0.94187779, 0.94176851, 0.94065934, 0.9457478 , 0.94521549,\n",
       "        0.94606414, 0.94403535, 0.94521549, 0.93979442, 0.94813733])}"
      ]
     },
     "execution_count": 15,
     "metadata": {},
     "output_type": "execute_result"
    }
   ],
   "source": [
    "from sklearn.naive_bayes import BernoulliNB\n",
    "\n",
    "bnb = BernoulliNB()\n",
    "cross_validate(bnb,X_train,y_train,cv = cv ,return_train_score=True ,scoring=f1)"
   ]
  },
  {
   "cell_type": "markdown",
   "id": "7548cf73",
   "metadata": {},
   "source": [
    "#### Decision Tree Classifier"
   ]
  },
  {
   "cell_type": "code",
   "execution_count": 16,
   "id": "3383fc4d",
   "metadata": {},
   "outputs": [
    {
     "data": {
      "text/plain": [
       "{'fit_time': array([0.00697994, 0.0069809 , 0.00598383, 0.00698137, 0.00797844,\n",
       "        0.00598335, 0.00598311, 0.00598335, 0.00598311, 0.00598407]),\n",
       " 'score_time': array([0.00099778, 0.00099802, 0.0009973 , 0.0009973 , 0.00099826,\n",
       "        0.00099754, 0.00099826, 0.        , 0.00099778, 0.00099754]),\n",
       " 'test_score': array([0.96551724, 0.976     , 0.91549296, 0.96202532, 0.95714286,\n",
       "        0.95172414, 0.96969697, 0.96052632, 0.96103896, 0.92993631]),\n",
       " 'train_score': array([0.99180938, 0.99064075, 0.99270073, 0.99117647, 0.99053168,\n",
       "        0.99197666, 0.99185788, 0.99047619, 0.99191771, 0.99117647])}"
      ]
     },
     "execution_count": 16,
     "metadata": {},
     "output_type": "execute_result"
    }
   ],
   "source": [
    "from sklearn.tree import DecisionTreeClassifier\n",
    "\n",
    "dtc = DecisionTreeClassifier(max_depth=12,random_state=0)\n",
    "cross_validate(dtc,X_train,y_train,cv = cv ,return_train_score=True,scoring=f1)"
   ]
  },
  {
   "cell_type": "markdown",
   "id": "dc17ead3",
   "metadata": {},
   "source": [
    "### Random Forest Classifier"
   ]
  },
  {
   "cell_type": "code",
   "execution_count": 17,
   "id": "b02f6bfd",
   "metadata": {},
   "outputs": [
    {
     "data": {
      "text/plain": [
       "{'fit_time': array([0.34607506, 0.34203649, 0.36107683, 0.35010839, 0.35101342,\n",
       "        0.34408426, 0.36602283, 0.34602213, 0.35410309, 0.34900928]),\n",
       " 'score_time': array([0.01201034, 0.01097226, 0.01097083, 0.01296639, 0.01097035,\n",
       "        0.01097012, 0.01196861, 0.0169549 , 0.01196814, 0.01196766]),\n",
       " 'estimator': [RandomForestClassifier(max_depth=12, oob_score=True),\n",
       "  RandomForestClassifier(max_depth=12, oob_score=True),\n",
       "  RandomForestClassifier(max_depth=12, oob_score=True),\n",
       "  RandomForestClassifier(max_depth=12, oob_score=True),\n",
       "  RandomForestClassifier(max_depth=12, oob_score=True),\n",
       "  RandomForestClassifier(max_depth=12, oob_score=True),\n",
       "  RandomForestClassifier(max_depth=12, oob_score=True),\n",
       "  RandomForestClassifier(max_depth=12, oob_score=True),\n",
       "  RandomForestClassifier(max_depth=12, oob_score=True),\n",
       "  RandomForestClassifier(max_depth=12, oob_score=True)],\n",
       " 'test_score': array([0.96511628, 0.96825397, 0.95238095, 0.96855346, 0.97902098,\n",
       "        0.95890411, 0.96969697, 0.95424837, 0.97435897, 0.94936709]),\n",
       " 'train_score': array([0.9918337 , 0.99140401, 0.99343545, 0.99121523, 0.99131693,\n",
       "        0.99274311, 0.99189388, 0.99125364, 0.99197666, 0.99270073])}"
      ]
     },
     "execution_count": 17,
     "metadata": {},
     "output_type": "execute_result"
    }
   ],
   "source": [
    "from sklearn.ensemble import RandomForestClassifier\n",
    "rfc = RandomForestClassifier(n_estimators=100,max_depth=12,oob_score=True)\n",
    "cross_validate(rfc,X_train,y_train,cv = cv ,return_train_score=True,return_estimator=True,scoring=f1)"
   ]
  },
  {
   "cell_type": "markdown",
   "id": "24f1114d",
   "metadata": {},
   "source": [
    "#### Tuning hyperparameters"
   ]
  },
  {
   "cell_type": "code",
   "execution_count": 18,
   "id": "fb41b813",
   "metadata": {},
   "outputs": [],
   "source": [
    "parameter_grid = [{'n_estimators':range(50,100,10),\n",
    "                  'criterion':['gini','entropy'],\n",
    "                  'max_depth':range(10,31,5)}]"
   ]
  },
  {
   "cell_type": "code",
   "execution_count": 19,
   "id": "83a9e021",
   "metadata": {},
   "outputs": [],
   "source": [
    "gscv = GridSearchCV(estimator=rfc,param_grid=parameter_grid,cv = cv,refit=True,scoring=f1).fit(X_train,y_train)"
   ]
  },
  {
   "cell_type": "code",
   "execution_count": 20,
   "id": "404478bd",
   "metadata": {},
   "outputs": [
    {
     "data": {
      "image/png": "[encoded data removed]",
      "text/plain": [
       "<Figure size 432x288 with 2 Axes>"
      ]
     },
     "metadata": {
      "needs_background": "light"
     },
     "output_type": "display_data"
    }
   ],
   "source": [
    "ConfusionMatrixDisplay.from_estimator(gscv,X_test,y_test)\n",
    "plt.show()"
   ]
  },
  {
   "cell_type": "code",
   "execution_count": 21,
   "id": "a050dccd",
   "metadata": {},
   "outputs": [
    {
     "name": "stdout",
     "output_type": "stream",
     "text": [
      "              precision    recall  f1-score   support\n",
      "\n",
      "           0       0.96      0.95      0.96       406\n",
      "           1       0.94      0.95      0.95       331\n",
      "\n",
      "    accuracy                           0.95       737\n",
      "   macro avg       0.95      0.95      0.95       737\n",
      "weighted avg       0.95      0.95      0.95       737\n",
      "\n"
     ]
    }
   ],
   "source": [
    "print(classification_report(y_test,gscv.predict(X_test)))"
   ]
  },
  {
   "cell_type": "markdown",
   "id": "43e548ac",
   "metadata": {},
   "source": [
    "#### Model Parameters"
   ]
  },
  {
   "cell_type": "code",
   "execution_count": 22,
   "id": "264f775c",
   "metadata": {},
   "outputs": [
    {
     "name": "stdout",
     "output_type": "stream",
     "text": [
      "Best parameters are:\n"
     ]
    },
    {
     "data": {
      "text/plain": [
       "{'criterion': 'entropy', 'max_depth': 30, 'n_estimators': 70}"
      ]
     },
     "execution_count": 22,
     "metadata": {},
     "output_type": "execute_result"
    }
   ],
   "source": [
    "print(\"Best parameters are:\")\n",
    "gscv.best_params_"
   ]
  },
  {
   "cell_type": "code",
   "execution_count": 23,
   "id": "5edea571",
   "metadata": {},
   "outputs": [
    {
     "name": "stdout",
     "output_type": "stream",
     "text": [
      "Best score is 96.567\n"
     ]
    }
   ],
   "source": [
    "print(\"Best score is {}\".format(round(gscv.best_score_*100,3)))"
   ]
  }
 ],
 "metadata": {
  "kernelspec": {
   "display_name": "Python 3 (ipykernel)",
   "language": "python",
   "name": "python3"
  },
  "language_info": {
   "codemirror_mode": {
    "name": "ipython",
    "version": 3
   },
   "file_extension": ".py",
   "mimetype": "text/x-python",
   "name": "python",
   "nbconvert_exporter": "python",
   "pygments_lexer": "ipython3",
   "version": "3.9.7"
  }
 },
 "nbformat": 4,
 "nbformat_minor": 5
}
